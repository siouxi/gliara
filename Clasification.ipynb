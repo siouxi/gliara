{
 "cells": [
  {
   "cell_type": "code",
   "execution_count": 6,
   "id": "b8e07d2c",
   "metadata": {},
   "outputs": [
    {
     "name": "stdout",
     "output_type": "stream",
     "text": [
      "MONAI version: 1.5.0\n",
      "Numpy version: 2.0.1\n",
      "Pytorch version: 2.5.1\n",
      "MONAI flags: HAS_EXT = False, USE_COMPILED = False, USE_META_DICT = False\n",
      "MONAI rev id: d388d1c6fec8cb3a0eebee5b5a0b9776ca59ca83\n",
      "MONAI __file__: /home/<username>/miniconda3/lib/python3.12/site-packages/monai/__init__.py\n",
      "\n",
      "Optional dependencies:\n",
      "Pytorch Ignite version: NOT INSTALLED or UNKNOWN VERSION.\n",
      "ITK version: NOT INSTALLED or UNKNOWN VERSION.\n",
      "Nibabel version: 5.3.2\n",
      "scikit-image version: NOT INSTALLED or UNKNOWN VERSION.\n",
      "scipy version: 1.15.1\n",
      "Pillow version: 11.1.0\n",
      "Tensorboard version: 2.18.0\n",
      "gdown version: NOT INSTALLED or UNKNOWN VERSION.\n",
      "TorchVision version: NOT INSTALLED or UNKNOWN VERSION.\n",
      "tqdm version: 4.66.5\n",
      "lmdb version: NOT INSTALLED or UNKNOWN VERSION.\n",
      "psutil version: 6.1.0\n",
      "pandas version: 2.2.3\n",
      "einops version: 0.8.1\n",
      "transformers version: NOT INSTALLED or UNKNOWN VERSION.\n",
      "mlflow version: NOT INSTALLED or UNKNOWN VERSION.\n",
      "pynrrd version: NOT INSTALLED or UNKNOWN VERSION.\n",
      "clearml version: NOT INSTALLED or UNKNOWN VERSION.\n",
      "\n",
      "For details about installing the optional dependencies, please visit:\n",
      "    https://docs.monai.io/en/latest/installation.html#installing-the-recommended-dependencies\n",
      "\n"
     ]
    }
   ],
   "source": [
    "import logging\n",
    "import os\n",
    "import sys\n",
    "import shutil\n",
    "import tempfile\n",
    "\n",
    "import matplotlib.pyplot as plt\n",
    "import torch\n",
    "import torch.nn as nn\n",
    "from torch.utils.tensorboard import SummaryWriter\n",
    "import numpy as np\n",
    "\n",
    "from models.resnet import resnet18 \n",
    "\n",
    "import monai\n",
    "from monai.apps import download_and_extract\n",
    "from monai.config import print_config\n",
    "from monai.data import DataLoader, ImageDataset\n",
    "from monai.transforms import (\n",
    "    EnsureChannelFirst,\n",
    "    Compose,\n",
    "    RandRotate90,\n",
    "    Resize,\n",
    "    ScaleIntensity,\n",
    ")\n",
    "\n",
    "pin_memory = torch.cuda.is_available()\n",
    "device = torch.device(\"cuda\" if torch.cuda.is_available() else \"cpu\")\n",
    "\n",
    "logging.basicConfig(stream=sys.stdout, level=logging.INFO)\n",
    "print_config()\n",
    "\n"
   ]
  },
  {
   "cell_type": "markdown",
   "id": "65011fa5",
   "metadata": {},
   "source": [
    "https://share.weiyun.com/55sZyIx"
   ]
  },
  {
   "cell_type": "code",
   "execution_count": 7,
   "id": "982fd367",
   "metadata": {},
   "outputs": [],
   "source": [
    "# Dimensiones de tus volúmenes de MRI usamos 256x256x256 ya que es un tamaño común para imágenes de resonancia magnética cerebral en freesurfer\n",
    "input_D = 256\n",
    "input_H = 256\n",
    "input_W = 256\n",
    "\n",
    "# Número de canales (1 para norm.mgz)\n",
    "input_C = 1 \n",
    "model = resnet18(sample_input_D=input_D,\n",
    "                 sample_input_H=input_H,\n",
    "                 sample_input_W=input_W,\n",
    "                 num_seg_classes=1)  # ATENTO A ESTO PORQUE ES IMPORTANTE PARA LA CLASIFICACION"
   ]
  },
  {
   "cell_type": "code",
   "execution_count": 8,
   "id": "ad61fe80",
   "metadata": {},
   "outputs": [
    {
     "name": "stderr",
     "output_type": "stream",
     "text": [
      "/tmp/ipykernel_32364/416200560.py:5: FutureWarning: You are using `torch.load` with `weights_only=False` (the current default value), which uses the default pickle module implicitly. It is possible to construct malicious pickle data which will execute arbitrary code during unpickling (See https://github.com/pytorch/pytorch/blob/main/SECURITY.md#untrusted-models for more details). In a future release, the default value for `weights_only` will be flipped to `True`. This limits the functions that could be executed during unpickling. Arbitrary objects will no longer be allowed to be loaded via this mode unless they are explicitly allowlisted by the user via `torch.serialization.add_safe_globals`. We recommend you start setting `weights_only=True` for any use case where you don't have full control of the loaded file. Please open an issue on GitHub for any issues related to this experimental feature.\n",
      "  state_dict = torch.load(pretrained_weights_path)\n"
     ]
    },
    {
     "name": "stdout",
     "output_type": "stream",
     "text": [
      "Error: El archivo de pesos no se encontró en path/to/your/resnet_18.pth\n",
      "Asegúrate de que la ruta sea correcta y el archivo exista.\n",
      "Modelo movido a: cuda\n"
     ]
    }
   ],
   "source": [
    "# Ruta completa a tu archivo de pesos pre-entrenados de ResNet-18\n",
    "pretrained_weights_path = 'path/to/your/resnet_18.pth' # ¡Actualiza esta ruta!\n",
    "\n",
    "try:\n",
    "    state_dict = torch.load(pretrained_weights_path)\n",
    "    model.load_state_dict(state_dict, strict=False)\n",
    "    print(f\"Pesos de ResNet-18 cargados exitosamente desde {pretrained_weights_path}\")\n",
    "\n",
    "except FileNotFoundError:\n",
    "    print(f\"Error: El archivo de pesos no se encontró en {pretrained_weights_path}\")\n",
    "    print(\"Asegúrate de que la ruta sea correcta y el archivo exista.\")\n",
    "except Exception as e:\n",
    "    print(f\"Ocurrió un error al cargar los pesos: {e}\")\n",
    "\n",
    "device = torch.device(\"cuda\" if torch.cuda.is_available() else \"cpu\")\n",
    "model.to(device)\n",
    "print(f\"Modelo movido a: {device}\")"
   ]
  },
  {
   "cell_type": "code",
   "execution_count": null,
   "id": "8ad4c4b9",
   "metadata": {},
   "outputs": [],
   "source": [
    "\n",
    "num_ftrs = model.fc.in_features\n",
    "your_num_classes = 2 # Por ejemplo, para clasificación binaria, tiene o no tiene alzheimer\n",
    "\n",
    "model.fc = nn.Linear(num_ftrs, your_num_classes)\n",
    "print(f\"Capa de clasificación final adaptada a {your_num_classes} clases.\")\n",
    "\n",
    "# Mueve la nueva capa (que no tiene pesos pre-entrenados) a la GPU también\n",
    "model.to(device)"
   ]
  }
 ],
 "metadata": {
  "kernelspec": {
   "display_name": "base",
   "language": "python",
   "name": "python3"
  },
  "language_info": {
   "codemirror_mode": {
    "name": "ipython",
    "version": 3
   },
   "file_extension": ".py",
   "mimetype": "text/x-python",
   "name": "python",
   "nbconvert_exporter": "python",
   "pygments_lexer": "ipython3",
   "version": "3.12.8"
  }
 },
 "nbformat": 4,
 "nbformat_minor": 5
}
