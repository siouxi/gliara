{
 "cells": [
  {
   "cell_type": "code",
   "execution_count": 80,
   "id": "b8e07d2c",
   "metadata": {},
   "outputs": [],
   "source": [
    "import logging\n",
    "import os\n",
    "import sys\n",
    "import shutil\n",
    "import tempfile\n",
    "import nibabel as nib\n",
    "import matplotlib.pyplot as plt\n",
    "import torch\n",
    "import torch.nn as nn\n",
    "import pandas as pd\n",
    "from sklearn.model_selection import train_test_split \n",
    "from torch.utils.tensorboard import SummaryWriter\n",
    "import numpy as np\n",
    "import torch.optim as optim\n",
    "from torch.optim.lr_scheduler import ReduceLROnPlateau\n",
    "from torch.utils.data import Dataset, DataLoader\n",
    "from models.resnet import resnet18 \n",
    "\n",
    "import monai\n",
    "from monai.apps import download_and_extract\n",
    "from monai.config import print_config\n",
    "from monai.data import DataLoader, ImageDataset\n",
    "from monai.transforms import (\n",
    "    EnsureChannelFirst,\n",
    "    Compose,\n",
    "    RandRotate90,\n",
    "    Resize,\n",
    "    ScaleIntensity,\n",
    ")\n",
    "\n",
    "\n",
    "pin_memory = torch.cuda.is_available()\n",
    "device = torch.device(\"cuda\" if torch.cuda.is_available() else \"cpu\")\n",
    "\n",
    "logging.basicConfig(stream=sys.stdout, level=logging.INFO)\n",
    "# print_config()\n",
    "\n"
   ]
  },
  {
   "cell_type": "markdown",
   "id": "c5962b15",
   "metadata": {},
   "source": [
    "#### **1. ResNet18: El Caballo de Batalla Generalista**\n",
    "\n",
    "**ResNet18** es una arquitectura de red neuronal convolucional muy popular, parte de la familia Residual Networks (ResNet). Su innovación principal radica en el uso de **\"bloques residuales\"** o \"saltos\" (skip connections). Estos saltos permiten que la información y los gradientes fluyan más fácilmente a través de muchas capas, resolviendo el problema del \"gradiente desvanecido\" que dificultaba el entrenamiento de redes muy profundas.\n",
    "\n",
    "* **Pre-entrenamiento:** Comúnmente, ResNet18 se pre-entrena en el dataset **ImageNet**. Este es un gigantesco conjunto de datos con millones de imágenes de objetos cotidianos (perros, coches, sillas, etc.) de 1000 categorías diferentes.\n",
    "* **Ventajas en imágenes médicas:** A pesar de haber sido entrenado con imágenes naturales, las características de bajo nivel que ResNet18 aprende de ImageNet (detección de bordes, patrones de textura) son sorprendentemente útiles como punto de partida para el análisis de imágenes médicas. Es un excelente punto de inicio general.\n",
    "* **Consideración:** Puede haber una \"brecha de dominio\" entre las imágenes de ImageNet y las imágenes médicas, lo que significa que el fine-tuning es crucial para adaptar el modelo a las particularidades de los datos médicos (contrastes, resoluciones, tipos de ruido).\n",
    "\n",
    "---\n",
    "\n",
    "#### **2. MedicalNet: Especialización para el Dominio Médico**\n",
    "\n",
    "**MedicalNet** es una iniciativa que proporciona modelos (incluyendo variantes de ResNet como ResNet18) que han sido **pre-entrenados específicamente en un vasto y diverso conjunto de datos de imágenes médicas**.\n",
    "\n",
    "* **Pre-entrenamiento:** A diferencia de ResNet18 estándar, MedicalNet ha sido entrenado con millones de imágenes provenientes de diversas modalidades médicas (MRI, CT, rayos X, ultrasonido) y cubriendo diferentes órganos y patologías.\n",
    "* **Ventajas en imágenes médicas:**\n",
    "    * **Mayor relevancia de las características:** Al estar pre-entrenado en datos médicos, MedicalNet ya ha aprendido patrones y características que son intrínsecamente más relevantes para el diagnóstico y análisis clínico.\n",
    "    * **Menor brecha de dominio:** Esto puede traducirse en un mejor rendimiento inicial, una convergencia más rápida durante el fine-tuning y, potencialmente, un mejor rendimiento final con menos datos de entrenamiento específicos para tu tarea.\n",
    "    * **Adaptado a diferentes modalidades:** Su entrenamiento diverso lo hace robusto para trabajar con distintos tipos de imágenes médicas.\n",
    "\n"
   ]
  },
  {
   "cell_type": "code",
   "execution_count": 69,
   "id": "982fd367",
   "metadata": {},
   "outputs": [
    {
     "name": "stderr",
     "output_type": "stream",
     "text": [
      "/home/nicolas/Documentos/gliara/models/resnet.py:173: FutureWarning: `nn.init.kaiming_normal` is now deprecated in favor of `nn.init.kaiming_normal_`.\n",
      "  m.weight = nn.init.kaiming_normal(m.weight, mode='fan_out')\n"
     ]
    }
   ],
   "source": [
    "# Dimensiones de tus volúmenes de MRI usamos 256x256x256 ya que es un tamaño común para imágenes de resonancia magnética cerebral en freesurfer\n",
    "input_D = 256\n",
    "input_H = 256\n",
    "input_W = 256\n",
    "\n",
    "# Número de canales (1 para norm.mgz)\n",
    "input_C = 1 \n",
    "model = resnet18(sample_input_D=input_D,\n",
    "                 sample_input_H=input_H,\n",
    "                 sample_input_W=input_W,\n",
    "                 num_seg_classes=1)  # ATENTO A ESTO PORQUE ES IMPORTANTE PARA LA CLASIFICACION"
   ]
  },
  {
   "cell_type": "markdown",
   "id": "27f00d8a",
   "metadata": {},
   "source": [
    "Pesos de MedicalNet y ResNet18:\n",
    "https://share.weiyun.com/55sZyIx "
   ]
  },
  {
   "cell_type": "code",
   "execution_count": 72,
   "id": "ad61fe80",
   "metadata": {},
   "outputs": [
    {
     "name": "stderr",
     "output_type": "stream",
     "text": [
      "/tmp/ipykernel_61891/2331833451.py:4: FutureWarning: You are using `torch.load` with `weights_only=False` (the current default value), which uses the default pickle module implicitly. It is possible to construct malicious pickle data which will execute arbitrary code during unpickling (See https://github.com/pytorch/pytorch/blob/main/SECURITY.md#untrusted-models for more details). In a future release, the default value for `weights_only` will be flipped to `True`. This limits the functions that could be executed during unpickling. Arbitrary objects will no longer be allowed to be loaded via this mode unless they are explicitly allowlisted by the user via `torch.serialization.add_safe_globals`. We recommend you start setting `weights_only=True` for any use case where you don't have full control of the loaded file. Please open an issue on GitHub for any issues related to this experimental feature.\n",
      "  state_dict = torch.load(pretrained_weights_path)\n"
     ]
    },
    {
     "name": "stdout",
     "output_type": "stream",
     "text": [
      "Pesos de ResNet-18 cargados exitosamente desde pretrain/resnet_18_23dataset.pth\n",
      "Modelo movido a: cuda\n"
     ]
    }
   ],
   "source": [
    "pretrained_weights_path = \"pretrain/resnet_18_23dataset.pth\"\n",
    "\n",
    "try:\n",
    "    state_dict = torch.load(pretrained_weights_path)\n",
    "    model.load_state_dict(state_dict, strict=False)\n",
    "    print(f\"Pesos de ResNet-18 cargados exitosamente desde {pretrained_weights_path}\")\n",
    "\n",
    "except FileNotFoundError:\n",
    "    print(f\"Error: El archivo de pesos no se encontró en {pretrained_weights_path}\")\n",
    "    print(\"Asegúrate de que la ruta sea correcta y el archivo exista.\")\n",
    "except Exception as e:\n",
    "    print(f\"Ocurrió un error al cargar los pesos: {e}\")\n",
    "\n",
    "device = torch.device(\"cuda\" if torch.cuda.is_available() else \"cpu\")\n",
    "model.to(device)\n",
    "print(f\"Modelo movido a: {device}\")"
   ]
  },
  {
   "cell_type": "code",
   "execution_count": 73,
   "id": "8ad4c4b9",
   "metadata": {},
   "outputs": [
    {
     "name": "stdout",
     "output_type": "stream",
     "text": [
      "Capa de salida (conv_seg) adaptada a 2 clases para el proyecto Gliara.\n",
      "Modelo movido a: cuda\n"
     ]
    }
   ],
   "source": [
    "# Define el número de clases para tu tarea de clasificación binaria (Alzheimer sí/no)\n",
    "your_num_classes = 2\n",
    "final_conv_layer = model.conv_seg[0]\n",
    "num_in_features = final_conv_layer.in_channels\n",
    "model.conv_seg = nn.Sequential(\n",
    "    nn.Conv3d(num_in_features, your_num_classes,\n",
    "              kernel_size=final_conv_layer.kernel_size,\n",
    "              stride=final_conv_layer.stride,\n",
    "              padding=final_conv_layer.padding)\n",
    ")\n",
    "\n",
    "print(f\"Capa de salida (conv_seg) adaptada a {your_num_classes} clases para el proyecto Gliara.\")\n",
    "\n",
    "# Mueve el modelo completo (incluida la nueva capa) a la GPU\n",
    "model.to(device)\n",
    "print(f\"Modelo movido a: {device}\")\n"
   ]
  },
  {
   "cell_type": "markdown",
   "id": "5484e0e6",
   "metadata": {},
   "source": [
    "# Preparar la data"
   ]
  },
  {
   "cell_type": "code",
   "execution_count": 60,
   "id": "20e5c1d7",
   "metadata": {},
   "outputs": [],
   "source": [
    "DATA = pd.read_csv(\"AUMENTED_DATA.csv\")\n",
    "DATA[\"CDR\"] = np.where(DATA[\"CDR\"] != 0, 1, DATA[\"CDR\"])\n",
    "DATA.to_csv(\"AUMENTED_DATA2.csv\", index=False)"
   ]
  },
  {
   "cell_type": "code",
   "execution_count": 74,
   "id": "b5234d81",
   "metadata": {},
   "outputs": [
    {
     "data": {
      "text/html": [
       "<div>\n",
       "<style scoped>\n",
       "    .dataframe tbody tr th:only-of-type {\n",
       "        vertical-align: middle;\n",
       "    }\n",
       "\n",
       "    .dataframe tbody tr th {\n",
       "        vertical-align: top;\n",
       "    }\n",
       "\n",
       "    .dataframe thead th {\n",
       "        text-align: right;\n",
       "    }\n",
       "</style>\n",
       "<table border=\"1\" class=\"dataframe\">\n",
       "  <thead>\n",
       "    <tr style=\"text-align: right;\">\n",
       "      <th></th>\n",
       "      <th>ID</th>\n",
       "      <th>CDR</th>\n",
       "    </tr>\n",
       "  </thead>\n",
       "  <tbody>\n",
       "    <tr>\n",
       "      <th>0</th>\n",
       "      <td>OAS1_0001_MR1</td>\n",
       "      <td>0.0</td>\n",
       "    </tr>\n",
       "    <tr>\n",
       "      <th>1</th>\n",
       "      <td>OAS1_0002_MR1</td>\n",
       "      <td>0.0</td>\n",
       "    </tr>\n",
       "    <tr>\n",
       "      <th>2</th>\n",
       "      <td>OAS1_0010_MR1</td>\n",
       "      <td>0.0</td>\n",
       "    </tr>\n",
       "    <tr>\n",
       "      <th>3</th>\n",
       "      <td>OAS1_0011_MR1</td>\n",
       "      <td>0.0</td>\n",
       "    </tr>\n",
       "    <tr>\n",
       "      <th>4</th>\n",
       "      <td>OAS1_0013_MR1</td>\n",
       "      <td>0.0</td>\n",
       "    </tr>\n",
       "    <tr>\n",
       "      <th>...</th>\n",
       "      <td>...</td>\n",
       "      <td>...</td>\n",
       "    </tr>\n",
       "    <tr>\n",
       "      <th>397</th>\n",
       "      <td>A-OAS1_0210_MR1</td>\n",
       "      <td>1.0</td>\n",
       "    </tr>\n",
       "    <tr>\n",
       "      <th>398</th>\n",
       "      <td>A-OAS1_0240_MR1</td>\n",
       "      <td>1.0</td>\n",
       "    </tr>\n",
       "    <tr>\n",
       "      <th>399</th>\n",
       "      <td>A-OAS1_0262_MR1</td>\n",
       "      <td>0.0</td>\n",
       "    </tr>\n",
       "    <tr>\n",
       "      <th>400</th>\n",
       "      <td>A-OAS1_0206_MR1</td>\n",
       "      <td>0.0</td>\n",
       "    </tr>\n",
       "    <tr>\n",
       "      <th>401</th>\n",
       "      <td>A-OAS1_0181_MR1</td>\n",
       "      <td>0.0</td>\n",
       "    </tr>\n",
       "  </tbody>\n",
       "</table>\n",
       "<p>402 rows × 2 columns</p>\n",
       "</div>"
      ],
      "text/plain": [
       "                  ID  CDR\n",
       "0      OAS1_0001_MR1  0.0\n",
       "1      OAS1_0002_MR1  0.0\n",
       "2      OAS1_0010_MR1  0.0\n",
       "3      OAS1_0011_MR1  0.0\n",
       "4      OAS1_0013_MR1  0.0\n",
       "..               ...  ...\n",
       "397  A-OAS1_0210_MR1  1.0\n",
       "398  A-OAS1_0240_MR1  1.0\n",
       "399  A-OAS1_0262_MR1  0.0\n",
       "400  A-OAS1_0206_MR1  0.0\n",
       "401  A-OAS1_0181_MR1  0.0\n",
       "\n",
       "[402 rows x 2 columns]"
      ]
     },
     "execution_count": 74,
     "metadata": {},
     "output_type": "execute_result"
    }
   ],
   "source": [
    "DATA"
   ]
  },
  {
   "cell_type": "code",
   "execution_count": 75,
   "id": "3d6d07cb",
   "metadata": {},
   "outputs": [
    {
     "name": "stdout",
     "output_type": "stream",
     "text": [
      "\n",
      "Advertencia: 68 archivos .nii.gz no encontrados en OASIS/1/processed:\n",
      "- OASIS/1/processed/OAS1_0110_MR1.nii.gz\n",
      "- OASIS/1/processed/OAS1_0317_MR1.nii.gz\n",
      "- OASIS/1/processed/OAS1_0337_MR1.nii.gz\n",
      "- OASIS/1/processed/OAS1_0338_MR1.nii.gz\n",
      "- OASIS/1/processed/OAS1_0341_MR1.nii.gz\n",
      "- y 63 más...\n",
      "Por favor, asegúrate de que 'BASE_DATA_DIR' y los 'ID' en tu DataFrame sean correctos.\n",
      "Se eliminaron 68 filas de archivos no encontrados del DataFrame.\n",
      "\n",
      "DataFrame 'df_gliara' listo con 334 entradas:\n",
      "                ID  clasificacion                                 ubicacion\n",
      "0    OAS1_0078_MR1              0    OASIS/1/processed/OAS1_0078_MR1.nii.gz\n",
      "1  A-OAS1_0298_MR1              1  OASIS/1/processed/A-OAS1_0298_MR1.nii.gz\n",
      "2    OAS1_0255_MR1              0    OASIS/1/processed/OAS1_0255_MR1.nii.gz\n",
      "3  A-OAS1_0114_MR1              0  OASIS/1/processed/A-OAS1_0114_MR1.nii.gz\n",
      "4    OAS1_0203_MR1              0    OASIS/1/processed/OAS1_0203_MR1.nii.gz\n",
      "Conteo de clases:\n",
      "clasificacion\n",
      "0    194\n",
      "1    140\n",
      "Name: count, dtype: int64\n"
     ]
    }
   ],
   "source": [
    "BASE_DATA_DIR = \"OASIS/1/processed\"\n",
    "df_gliara = DATA.rename(columns={'CDR': 'clasificacion'})\n",
    "df_gliara['ubicacion'] = df_gliara['ID'].apply(\n",
    "    lambda x: os.path.join(BASE_DATA_DIR, f\"{x}.nii.gz\")\n",
    ")\n",
    "\n",
    "df_gliara['clasificacion'] = df_gliara['clasificacion'].astype(int)\n",
    "\n",
    "\n",
    "missing_files = []\n",
    "for index, row in df_gliara.iterrows():\n",
    "    if not os.path.exists(row['ubicacion']):\n",
    "        missing_files.append(row['ubicacion'])\n",
    "\n",
    "if missing_files:\n",
    "    print(f\"\\nAdvertencia: {len(missing_files)} archivos .nii.gz no encontrados en {BASE_DATA_DIR}:\")\n",
    "    for mf in missing_files[:5]: # Muestra los primeros 5 archivos faltantes\n",
    "        print(f\"- {mf}\")\n",
    "    if len(missing_files) > 5:\n",
    "        print(f\"- y {len(missing_files) - 5} más...\")\n",
    "    print(\"Por favor, asegúrate de que 'BASE_DATA_DIR' y los 'ID' en tu DataFrame sean correctos.\")\n",
    "    # Opcional: Eliminar las filas de archivos no encontrados para evitar errores en el DataLoader\n",
    "    df_gliara = df_gliara[~df_gliara['ubicacion'].isin(missing_files)]\n",
    "    print(f\"Se eliminaron {len(missing_files)} filas de archivos no encontrados del DataFrame.\")\n",
    "\n",
    "# Mezclar el DataFrame para asegurar aleatoriedad antes de la partición\n",
    "df_gliara = df_gliara.sample(frac=1, random_state=42).reset_index(drop=True)\n",
    "\n",
    "print(f\"\\nDataFrame 'df_gliara' listo con {len(df_gliara)} entradas:\")\n",
    "print(df_gliara.head())\n",
    "print(f\"Conteo de clases:\\n{df_gliara['clasificacion'].value_counts()}\")"
   ]
  },
  {
   "cell_type": "code",
   "execution_count": 76,
   "id": "25026934",
   "metadata": {},
   "outputs": [
    {
     "name": "stdout",
     "output_type": "stream",
     "text": [
      "\n",
      "Partición de datos completada:\n",
      "Tamaño del conjunto de Entrenamiento: 233 imágenes\n",
      "Tamaño del conjunto de Validación: 50 imágenes\n",
      "Tamaño del conjunto de Prueba: 51 imágenes\n",
      "\n",
      "Primeras 5 filas del DataFrame de Entrenamiento:\n",
      "                  ID  clasificacion                                 ubicacion\n",
      "118    OAS1_0228_MR1              0    OASIS/1/processed/OAS1_0228_MR1.nii.gz\n",
      "22   A-OAS1_0208_MR1              0  OASIS/1/processed/A-OAS1_0208_MR1.nii.gz\n",
      "181    OAS1_0060_MR1              1    OASIS/1/processed/OAS1_0060_MR1.nii.gz\n",
      "292  A-OAS1_0169_MR1              0  OASIS/1/processed/A-OAS1_0169_MR1.nii.gz\n",
      "287    OAS1_0114_MR1              0    OASIS/1/processed/OAS1_0114_MR1.nii.gz\n",
      "\n",
      "Conteo de clases en el conjunto de Entrenamiento:\n",
      "clasificacion\n",
      "0    135\n",
      "1     98\n",
      "Name: count, dtype: int64\n",
      "\n",
      "Conteo de clases en el conjunto de Validación:\n",
      "clasificacion\n",
      "0    29\n",
      "1    21\n",
      "Name: count, dtype: int64\n",
      "\n",
      "Conteo de clases en el conjunto de Prueba:\n",
      "clasificacion\n",
      "0    30\n",
      "1    21\n",
      "Name: count, dtype: int64\n"
     ]
    }
   ],
   "source": [
    "train_ratio = 0.70\n",
    "val_ratio = 0.15\n",
    "test_ratio = 0.15\n",
    "\n",
    "df_train, df_temp = train_test_split(\n",
    "    df_gliara,\n",
    "    test_size=(val_ratio + test_ratio), \n",
    "    stratify=df_gliara['clasificacion'], \n",
    "    random_state=42 \n",
    ")\n",
    "\n",
    "\n",
    "val_split_ratio = val_ratio / (val_ratio + test_ratio)\n",
    "\n",
    "df_val, df_test = train_test_split(\n",
    "    df_temp,\n",
    "    test_size=test_ratio / (val_ratio + test_ratio), \n",
    "    stratify=df_temp['clasificacion'], \n",
    "    random_state=42 \n",
    ")\n",
    "\n",
    "print(f\"\\nPartición de datos completada:\")\n",
    "print(f\"Tamaño del conjunto de Entrenamiento: {len(df_train)} imágenes\")\n",
    "print(f\"Tamaño del conjunto de Validación: {len(df_val)} imágenes\")\n",
    "print(f\"Tamaño del conjunto de Prueba: {len(df_test)} imágenes\")\n",
    "\n",
    "print(\"\\nPrimeras 5 filas del DataFrame de Entrenamiento:\")\n",
    "print(df_train.head())\n",
    "\n",
    "print(\"\\nConteo de clases en el conjunto de Entrenamiento:\")\n",
    "print(df_train['clasificacion'].value_counts())\n",
    "\n",
    "print(\"\\nConteo de clases en el conjunto de Validación:\")\n",
    "print(df_val['clasificacion'].value_counts())\n",
    "\n",
    "print(\"\\nConteo de clases en el conjunto de Prueba:\")\n",
    "print(df_test['clasificacion'].value_counts())"
   ]
  },
  {
   "cell_type": "code",
   "execution_count": 82,
   "id": "aab744b2",
   "metadata": {},
   "outputs": [
    {
     "name": "stdout",
     "output_type": "stream",
     "text": [
      "\n",
      "DataLoaders listos para el entrenamiento y evaluación de Gliara.\n"
     ]
    }
   ],
   "source": [
    "class MRIDataset(Dataset): # Asumiendo que Dataset ya fue importado de torch.utils.data\n",
    "    def __init__(self, dataframe, transform=None):\n",
    "        self.dataframe = dataframe\n",
    "        self.transform = transform\n",
    "\n",
    "        # Las rutas y etiquetas ya están en el DataFrame\n",
    "        self.image_paths = dataframe['ubicacion'].tolist()\n",
    "        self.labels = dataframe['clasificacion'].tolist()\n",
    "\n",
    "    def __len__(self):\n",
    "        return len(self.dataframe)\n",
    "\n",
    "    def __getitem__(self, idx):\n",
    "        img_path = self.image_paths[idx]\n",
    "        label = self.labels[idx]\n",
    "\n",
    "        # Cargar la imagen .nii.gz\n",
    "        img = nib.load(img_path)\n",
    "        data = img.get_fdata().astype(np.float32)\n",
    "\n",
    "        # --- Normalización de intensidad ---\n",
    "        min_val = np.min(data)\n",
    "        max_val = np.max(data)\n",
    "        if (max_val - min_val) > 1e-8:\n",
    "            data = (data - min_val) / (max_val - min_val)\n",
    "        else:\n",
    "            data = np.zeros_like(data)\n",
    "\n",
    "        # Añadir la dimensión del canal (C, D, H, W)\n",
    "        data = np.expand_dims(data, axis=0) # Ahora es (1, 256, 256, 256)\n",
    "\n",
    "        if self.transform:\n",
    "            pass # Aquí irían tus transformaciones 3D\n",
    "\n",
    "        image_tensor = torch.from_numpy(data)\n",
    "        label_tensor = torch.tensor(label, dtype=torch.long)\n",
    "\n",
    "        return image_tensor, label_tensor\n",
    "\n",
    "# --- Creación de instancias de Dataset y DataLoader con los DataFrames particionados ---\n",
    "# Asegúrate de que BATCH_SIZE y NUM_WORKERS estén definidos en tu script principal\n",
    "BATCH_SIZE = 1 # Ajusta según la memoria de tu GPU\n",
    "NUM_WORKERS = 4 # Ajusta según tu CPU\n",
    "\n",
    "train_dataset = MRIDataset(dataframe=df_train)\n",
    "train_loader = DataLoader(train_dataset, batch_size=BATCH_SIZE, shuffle=True, num_workers=NUM_WORKERS)\n",
    "\n",
    "val_dataset = MRIDataset(dataframe=df_val)\n",
    "val_loader = DataLoader(val_dataset, batch_size=BATCH_SIZE, shuffle=False, num_workers=NUM_WORKERS)\n",
    "\n",
    "test_dataset = MRIDataset(dataframe=df_test)\n",
    "test_loader = DataLoader(test_dataset, batch_size=BATCH_SIZE, shuffle=False, num_workers=NUM_WORKERS)\n",
    "\n",
    "print(\"\\nDataLoaders listos para el entrenamiento y evaluación de Gliara.\")"
   ]
  },
  {
   "cell_type": "markdown",
   "id": "9ef1f84c",
   "metadata": {},
   "source": [
    "# Entrenamiento"
   ]
  },
  {
   "cell_type": "code",
   "execution_count": 83,
   "id": "3c7efdf6",
   "metadata": {},
   "outputs": [
    {
     "name": "stderr",
     "output_type": "stream",
     "text": [
      "/home/nicolas/miniconda3/lib/python3.12/site-packages/torch/optim/lr_scheduler.py:62: UserWarning: The verbose parameter is deprecated. Please use get_last_lr() to access the learning rate.\n",
      "  warnings.warn(\n"
     ]
    }
   ],
   "source": [
    "criterion = nn.CrossEntropyLoss()\n",
    "LEARNING_RATE = 1e-4\n",
    "optimizer = optim.Adam(model.parameters(), lr=LEARNING_RATE)\n",
    "scheduler = ReduceLROnPlateau(optimizer, mode='min', factor=0.1, patience=5, verbose=True)\n",
    "\n",
    "NUM_EPOCHS = 30"
   ]
  },
  {
   "cell_type": "code",
   "execution_count": null,
   "id": "9f947df5",
   "metadata": {},
   "outputs": [
    {
     "name": "stdout",
     "output_type": "stream",
     "text": [
      "\n",
      "--- Comenzando el Fine-Tuning de MedicalNet ResNet-18 para Gliara (30 épocas) ---\n"
     ]
    },
    {
     "ename": "OutOfMemoryError",
     "evalue": "CUDA out of memory. Tried to allocate 512.00 MiB. GPU 0 has a total capacity of 1.95 GiB of which 429.62 MiB is free. Including non-PyTorch memory, this process has 1.52 GiB memory in use. Of the allocated memory 1.44 GiB is allocated by PyTorch, and 48.04 MiB is reserved by PyTorch but unallocated. If reserved but unallocated memory is large try setting PYTORCH_CUDA_ALLOC_CONF=expandable_segments:True to avoid fragmentation.  See documentation for Memory Management  (https://pytorch.org/docs/stable/notes/cuda.html#environment-variables)",
     "output_type": "error",
     "traceback": [
      "\u001b[0;31m---------------------------------------------------------------------------\u001b[0m",
      "\u001b[0;31mOutOfMemoryError\u001b[0m                          Traceback (most recent call last)",
      "Cell \u001b[0;32mIn[84], line 18\u001b[0m\n\u001b[1;32m     15\u001b[0m labels \u001b[38;5;241m=\u001b[39m labels\u001b[38;5;241m.\u001b[39mto(device)\n\u001b[1;32m     17\u001b[0m optimizer\u001b[38;5;241m.\u001b[39mzero_grad()\n\u001b[0;32m---> 18\u001b[0m outputs \u001b[38;5;241m=\u001b[39m \u001b[43mmodel\u001b[49m\u001b[43m(\u001b[49m\u001b[43minputs\u001b[49m\u001b[43m)\u001b[49m\n\u001b[1;32m     19\u001b[0m loss \u001b[38;5;241m=\u001b[39m criterion(outputs, labels)\n\u001b[1;32m     20\u001b[0m loss\u001b[38;5;241m.\u001b[39mbackward()\n",
      "File \u001b[0;32m~/miniconda3/lib/python3.12/site-packages/torch/nn/modules/module.py:1736\u001b[0m, in \u001b[0;36mModule._wrapped_call_impl\u001b[0;34m(self, *args, **kwargs)\u001b[0m\n\u001b[1;32m   1734\u001b[0m     \u001b[38;5;28;01mreturn\u001b[39;00m \u001b[38;5;28mself\u001b[39m\u001b[38;5;241m.\u001b[39m_compiled_call_impl(\u001b[38;5;241m*\u001b[39margs, \u001b[38;5;241m*\u001b[39m\u001b[38;5;241m*\u001b[39mkwargs)  \u001b[38;5;66;03m# type: ignore[misc]\u001b[39;00m\n\u001b[1;32m   1735\u001b[0m \u001b[38;5;28;01melse\u001b[39;00m:\n\u001b[0;32m-> 1736\u001b[0m     \u001b[38;5;28;01mreturn\u001b[39;00m \u001b[38;5;28;43mself\u001b[39;49m\u001b[38;5;241;43m.\u001b[39;49m\u001b[43m_call_impl\u001b[49m\u001b[43m(\u001b[49m\u001b[38;5;241;43m*\u001b[39;49m\u001b[43margs\u001b[49m\u001b[43m,\u001b[49m\u001b[43m \u001b[49m\u001b[38;5;241;43m*\u001b[39;49m\u001b[38;5;241;43m*\u001b[39;49m\u001b[43mkwargs\u001b[49m\u001b[43m)\u001b[49m\n",
      "File \u001b[0;32m~/miniconda3/lib/python3.12/site-packages/torch/nn/modules/module.py:1747\u001b[0m, in \u001b[0;36mModule._call_impl\u001b[0;34m(self, *args, **kwargs)\u001b[0m\n\u001b[1;32m   1742\u001b[0m \u001b[38;5;66;03m# If we don't have any hooks, we want to skip the rest of the logic in\u001b[39;00m\n\u001b[1;32m   1743\u001b[0m \u001b[38;5;66;03m# this function, and just call forward.\u001b[39;00m\n\u001b[1;32m   1744\u001b[0m \u001b[38;5;28;01mif\u001b[39;00m \u001b[38;5;129;01mnot\u001b[39;00m (\u001b[38;5;28mself\u001b[39m\u001b[38;5;241m.\u001b[39m_backward_hooks \u001b[38;5;129;01mor\u001b[39;00m \u001b[38;5;28mself\u001b[39m\u001b[38;5;241m.\u001b[39m_backward_pre_hooks \u001b[38;5;129;01mor\u001b[39;00m \u001b[38;5;28mself\u001b[39m\u001b[38;5;241m.\u001b[39m_forward_hooks \u001b[38;5;129;01mor\u001b[39;00m \u001b[38;5;28mself\u001b[39m\u001b[38;5;241m.\u001b[39m_forward_pre_hooks\n\u001b[1;32m   1745\u001b[0m         \u001b[38;5;129;01mor\u001b[39;00m _global_backward_pre_hooks \u001b[38;5;129;01mor\u001b[39;00m _global_backward_hooks\n\u001b[1;32m   1746\u001b[0m         \u001b[38;5;129;01mor\u001b[39;00m _global_forward_hooks \u001b[38;5;129;01mor\u001b[39;00m _global_forward_pre_hooks):\n\u001b[0;32m-> 1747\u001b[0m     \u001b[38;5;28;01mreturn\u001b[39;00m \u001b[43mforward_call\u001b[49m\u001b[43m(\u001b[49m\u001b[38;5;241;43m*\u001b[39;49m\u001b[43margs\u001b[49m\u001b[43m,\u001b[49m\u001b[43m \u001b[49m\u001b[38;5;241;43m*\u001b[39;49m\u001b[38;5;241;43m*\u001b[39;49m\u001b[43mkwargs\u001b[49m\u001b[43m)\u001b[49m\n\u001b[1;32m   1749\u001b[0m result \u001b[38;5;241m=\u001b[39m \u001b[38;5;28;01mNone\u001b[39;00m\n\u001b[1;32m   1750\u001b[0m called_always_called_hooks \u001b[38;5;241m=\u001b[39m \u001b[38;5;28mset\u001b[39m()\n",
      "File \u001b[0;32m~/Documentos/gliara/models/resnet.py:205\u001b[0m, in \u001b[0;36mResNet.forward\u001b[0;34m(self, x)\u001b[0m\n\u001b[1;32m    204\u001b[0m \u001b[38;5;28;01mdef\u001b[39;00m \u001b[38;5;21mforward\u001b[39m(\u001b[38;5;28mself\u001b[39m, x):\n\u001b[0;32m--> 205\u001b[0m     x \u001b[38;5;241m=\u001b[39m \u001b[38;5;28;43mself\u001b[39;49m\u001b[38;5;241;43m.\u001b[39;49m\u001b[43mconv1\u001b[49m\u001b[43m(\u001b[49m\u001b[43mx\u001b[49m\u001b[43m)\u001b[49m\n\u001b[1;32m    206\u001b[0m     x \u001b[38;5;241m=\u001b[39m \u001b[38;5;28mself\u001b[39m\u001b[38;5;241m.\u001b[39mbn1(x)\n\u001b[1;32m    207\u001b[0m     x \u001b[38;5;241m=\u001b[39m \u001b[38;5;28mself\u001b[39m\u001b[38;5;241m.\u001b[39mrelu(x)\n",
      "File \u001b[0;32m~/miniconda3/lib/python3.12/site-packages/torch/nn/modules/module.py:1736\u001b[0m, in \u001b[0;36mModule._wrapped_call_impl\u001b[0;34m(self, *args, **kwargs)\u001b[0m\n\u001b[1;32m   1734\u001b[0m     \u001b[38;5;28;01mreturn\u001b[39;00m \u001b[38;5;28mself\u001b[39m\u001b[38;5;241m.\u001b[39m_compiled_call_impl(\u001b[38;5;241m*\u001b[39margs, \u001b[38;5;241m*\u001b[39m\u001b[38;5;241m*\u001b[39mkwargs)  \u001b[38;5;66;03m# type: ignore[misc]\u001b[39;00m\n\u001b[1;32m   1735\u001b[0m \u001b[38;5;28;01melse\u001b[39;00m:\n\u001b[0;32m-> 1736\u001b[0m     \u001b[38;5;28;01mreturn\u001b[39;00m \u001b[38;5;28;43mself\u001b[39;49m\u001b[38;5;241;43m.\u001b[39;49m\u001b[43m_call_impl\u001b[49m\u001b[43m(\u001b[49m\u001b[38;5;241;43m*\u001b[39;49m\u001b[43margs\u001b[49m\u001b[43m,\u001b[49m\u001b[43m \u001b[49m\u001b[38;5;241;43m*\u001b[39;49m\u001b[38;5;241;43m*\u001b[39;49m\u001b[43mkwargs\u001b[49m\u001b[43m)\u001b[49m\n",
      "File \u001b[0;32m~/miniconda3/lib/python3.12/site-packages/torch/nn/modules/module.py:1747\u001b[0m, in \u001b[0;36mModule._call_impl\u001b[0;34m(self, *args, **kwargs)\u001b[0m\n\u001b[1;32m   1742\u001b[0m \u001b[38;5;66;03m# If we don't have any hooks, we want to skip the rest of the logic in\u001b[39;00m\n\u001b[1;32m   1743\u001b[0m \u001b[38;5;66;03m# this function, and just call forward.\u001b[39;00m\n\u001b[1;32m   1744\u001b[0m \u001b[38;5;28;01mif\u001b[39;00m \u001b[38;5;129;01mnot\u001b[39;00m (\u001b[38;5;28mself\u001b[39m\u001b[38;5;241m.\u001b[39m_backward_hooks \u001b[38;5;129;01mor\u001b[39;00m \u001b[38;5;28mself\u001b[39m\u001b[38;5;241m.\u001b[39m_backward_pre_hooks \u001b[38;5;129;01mor\u001b[39;00m \u001b[38;5;28mself\u001b[39m\u001b[38;5;241m.\u001b[39m_forward_hooks \u001b[38;5;129;01mor\u001b[39;00m \u001b[38;5;28mself\u001b[39m\u001b[38;5;241m.\u001b[39m_forward_pre_hooks\n\u001b[1;32m   1745\u001b[0m         \u001b[38;5;129;01mor\u001b[39;00m _global_backward_pre_hooks \u001b[38;5;129;01mor\u001b[39;00m _global_backward_hooks\n\u001b[1;32m   1746\u001b[0m         \u001b[38;5;129;01mor\u001b[39;00m _global_forward_hooks \u001b[38;5;129;01mor\u001b[39;00m _global_forward_pre_hooks):\n\u001b[0;32m-> 1747\u001b[0m     \u001b[38;5;28;01mreturn\u001b[39;00m \u001b[43mforward_call\u001b[49m\u001b[43m(\u001b[49m\u001b[38;5;241;43m*\u001b[39;49m\u001b[43margs\u001b[49m\u001b[43m,\u001b[49m\u001b[43m \u001b[49m\u001b[38;5;241;43m*\u001b[39;49m\u001b[38;5;241;43m*\u001b[39;49m\u001b[43mkwargs\u001b[49m\u001b[43m)\u001b[49m\n\u001b[1;32m   1749\u001b[0m result \u001b[38;5;241m=\u001b[39m \u001b[38;5;28;01mNone\u001b[39;00m\n\u001b[1;32m   1750\u001b[0m called_always_called_hooks \u001b[38;5;241m=\u001b[39m \u001b[38;5;28mset\u001b[39m()\n",
      "File \u001b[0;32m~/miniconda3/lib/python3.12/site-packages/torch/nn/modules/conv.py:725\u001b[0m, in \u001b[0;36mConv3d.forward\u001b[0;34m(self, input)\u001b[0m\n\u001b[1;32m    724\u001b[0m \u001b[38;5;28;01mdef\u001b[39;00m \u001b[38;5;21mforward\u001b[39m(\u001b[38;5;28mself\u001b[39m, \u001b[38;5;28minput\u001b[39m: Tensor) \u001b[38;5;241m-\u001b[39m\u001b[38;5;241m>\u001b[39m Tensor:\n\u001b[0;32m--> 725\u001b[0m     \u001b[38;5;28;01mreturn\u001b[39;00m \u001b[38;5;28;43mself\u001b[39;49m\u001b[38;5;241;43m.\u001b[39;49m\u001b[43m_conv_forward\u001b[49m\u001b[43m(\u001b[49m\u001b[38;5;28;43minput\u001b[39;49m\u001b[43m,\u001b[49m\u001b[43m \u001b[49m\u001b[38;5;28;43mself\u001b[39;49m\u001b[38;5;241;43m.\u001b[39;49m\u001b[43mweight\u001b[49m\u001b[43m,\u001b[49m\u001b[43m \u001b[49m\u001b[38;5;28;43mself\u001b[39;49m\u001b[38;5;241;43m.\u001b[39;49m\u001b[43mbias\u001b[49m\u001b[43m)\u001b[49m\n",
      "File \u001b[0;32m~/miniconda3/lib/python3.12/site-packages/torch/nn/modules/conv.py:720\u001b[0m, in \u001b[0;36mConv3d._conv_forward\u001b[0;34m(self, input, weight, bias)\u001b[0m\n\u001b[1;32m    708\u001b[0m \u001b[38;5;28;01mif\u001b[39;00m \u001b[38;5;28mself\u001b[39m\u001b[38;5;241m.\u001b[39mpadding_mode \u001b[38;5;241m!=\u001b[39m \u001b[38;5;124m\"\u001b[39m\u001b[38;5;124mzeros\u001b[39m\u001b[38;5;124m\"\u001b[39m:\n\u001b[1;32m    709\u001b[0m     \u001b[38;5;28;01mreturn\u001b[39;00m F\u001b[38;5;241m.\u001b[39mconv3d(\n\u001b[1;32m    710\u001b[0m         F\u001b[38;5;241m.\u001b[39mpad(\n\u001b[1;32m    711\u001b[0m             \u001b[38;5;28minput\u001b[39m, \u001b[38;5;28mself\u001b[39m\u001b[38;5;241m.\u001b[39m_reversed_padding_repeated_twice, mode\u001b[38;5;241m=\u001b[39m\u001b[38;5;28mself\u001b[39m\u001b[38;5;241m.\u001b[39mpadding_mode\n\u001b[0;32m   (...)\u001b[0m\n\u001b[1;32m    718\u001b[0m         \u001b[38;5;28mself\u001b[39m\u001b[38;5;241m.\u001b[39mgroups,\n\u001b[1;32m    719\u001b[0m     )\n\u001b[0;32m--> 720\u001b[0m \u001b[38;5;28;01mreturn\u001b[39;00m \u001b[43mF\u001b[49m\u001b[38;5;241;43m.\u001b[39;49m\u001b[43mconv3d\u001b[49m\u001b[43m(\u001b[49m\n\u001b[1;32m    721\u001b[0m \u001b[43m    \u001b[49m\u001b[38;5;28;43minput\u001b[39;49m\u001b[43m,\u001b[49m\u001b[43m \u001b[49m\u001b[43mweight\u001b[49m\u001b[43m,\u001b[49m\u001b[43m \u001b[49m\u001b[43mbias\u001b[49m\u001b[43m,\u001b[49m\u001b[43m \u001b[49m\u001b[38;5;28;43mself\u001b[39;49m\u001b[38;5;241;43m.\u001b[39;49m\u001b[43mstride\u001b[49m\u001b[43m,\u001b[49m\u001b[43m \u001b[49m\u001b[38;5;28;43mself\u001b[39;49m\u001b[38;5;241;43m.\u001b[39;49m\u001b[43mpadding\u001b[49m\u001b[43m,\u001b[49m\u001b[43m \u001b[49m\u001b[38;5;28;43mself\u001b[39;49m\u001b[38;5;241;43m.\u001b[39;49m\u001b[43mdilation\u001b[49m\u001b[43m,\u001b[49m\u001b[43m \u001b[49m\u001b[38;5;28;43mself\u001b[39;49m\u001b[38;5;241;43m.\u001b[39;49m\u001b[43mgroups\u001b[49m\n\u001b[1;32m    722\u001b[0m \u001b[43m\u001b[49m\u001b[43m)\u001b[49m\n",
      "\u001b[0;31mOutOfMemoryError\u001b[0m: CUDA out of memory. Tried to allocate 512.00 MiB. GPU 0 has a total capacity of 1.95 GiB of which 429.62 MiB is free. Including non-PyTorch memory, this process has 1.52 GiB memory in use. Of the allocated memory 1.44 GiB is allocated by PyTorch, and 48.04 MiB is reserved by PyTorch but unallocated. If reserved but unallocated memory is large try setting PYTORCH_CUDA_ALLOC_CONF=expandable_segments:True to avoid fragmentation.  See documentation for Memory Management  (https://pytorch.org/docs/stable/notes/cuda.html#environment-variables)"
     ]
    }
   ],
   "source": [
    "best_val_loss = float('inf')\n",
    "best_val_accuracy = 0.0\n",
    "\n",
    "print(f\"\\n--- Comenzando el Fine-Tuning de MedicalNet ResNet-18 para Gliara ({NUM_EPOCHS} épocas) ---\")\n",
    "\n",
    "for epoch in range(NUM_EPOCHS):\n",
    "    model.train()\n",
    "    running_loss = 0.0\n",
    "    correct_predictions = 0\n",
    "    total_samples = 0\n",
    "\n",
    "    for batch_idx, (inputs, labels) in enumerate(train_loader):\n",
    "        inputs = inputs.to(device)\n",
    "        labels = labels.to(device)\n",
    "\n",
    "        optimizer.zero_grad()\n",
    "        outputs = model(inputs)\n",
    "        loss = criterion(outputs, labels)\n",
    "        loss.backward()\n",
    "        optimizer.step()\n",
    "\n",
    "        running_loss += loss.item() * inputs.size(0)\n",
    "\n",
    "        _, predicted = torch.max(outputs.data, 1)\n",
    "        total_samples += labels.size(0)\n",
    "        correct_predictions += (predicted == labels).sum().item()\n",
    "\n",
    "    epoch_train_loss = running_loss / len(train_dataset)\n",
    "    epoch_train_accuracy = correct_predictions / total_samples\n",
    "\n",
    "    print(f\"Época {epoch+1}/{NUM_EPOCHS} - Entrenamiento | Pérdida: {epoch_train_loss:.4f} | Precisión: {epoch_train_accuracy:.4f}\")"
   ]
  },
  {
   "cell_type": "code",
   "execution_count": null,
   "id": "4fdc3c6f",
   "metadata": {},
   "outputs": [],
   "source": []
  }
 ],
 "metadata": {
  "kernelspec": {
   "display_name": "base",
   "language": "python",
   "name": "python3"
  },
  "language_info": {
   "codemirror_mode": {
    "name": "ipython",
    "version": 3
   },
   "file_extension": ".py",
   "mimetype": "text/x-python",
   "name": "python",
   "nbconvert_exporter": "python",
   "pygments_lexer": "ipython3",
   "version": "3.12.8"
  }
 },
 "nbformat": 4,
 "nbformat_minor": 5
}
