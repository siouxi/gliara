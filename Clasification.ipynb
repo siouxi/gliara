{
 "cells": [
  {
   "cell_type": "code",
   "execution_count": 2,
   "id": "b8e07d2c",
   "metadata": {},
   "outputs": [
    {
     "name": "stderr",
     "output_type": "stream",
     "text": [
      "2025-07-09 12:04:23.673282: E external/local_xla/xla/stream_executor/cuda/cuda_fft.cc:477] Unable to register cuFFT factory: Attempting to register factory for plugin cuFFT when one has already been registered\n",
      "WARNING: All log messages before absl::InitializeLog() is called are written to STDERR\n",
      "E0000 00:00:1752080664.298062   44861 cuda_dnn.cc:8310] Unable to register cuDNN factory: Attempting to register factory for plugin cuDNN when one has already been registered\n",
      "E0000 00:00:1752080664.545819   44861 cuda_blas.cc:1418] Unable to register cuBLAS factory: Attempting to register factory for plugin cuBLAS when one has already been registered\n",
      "2025-07-09 12:04:26.514288: I tensorflow/core/platform/cpu_feature_guard.cc:210] This TensorFlow binary is optimized to use available CPU instructions in performance-critical operations.\n",
      "To enable the following instructions: AVX2 FMA, in other operations, rebuild TensorFlow with the appropriate compiler flags.\n"
     ]
    }
   ],
   "source": [
    "import logging\n",
    "import os\n",
    "import sys\n",
    "import shutil\n",
    "import tempfile\n",
    "\n",
    "import matplotlib.pyplot as plt\n",
    "import torch\n",
    "import torch.nn as nn\n",
    "from torch.utils.tensorboard import SummaryWriter\n",
    "import numpy as np\n",
    "\n",
    "from models.resnet import resnet18 \n",
    "\n",
    "import monai\n",
    "from monai.apps import download_and_extract\n",
    "from monai.config import print_config\n",
    "from monai.data import DataLoader, ImageDataset\n",
    "from monai.transforms import (\n",
    "    EnsureChannelFirst,\n",
    "    Compose,\n",
    "    RandRotate90,\n",
    "    Resize,\n",
    "    ScaleIntensity,\n",
    ")\n",
    "\n",
    "pin_memory = torch.cuda.is_available()\n",
    "device = torch.device(\"cuda\" if torch.cuda.is_available() else \"cpu\")\n",
    "\n",
    "logging.basicConfig(stream=sys.stdout, level=logging.INFO)\n",
    "# print_config()\n",
    "\n"
   ]
  },
  {
   "cell_type": "markdown",
   "id": "c5962b15",
   "metadata": {},
   "source": [
    "#### **1. ResNet18: El Caballo de Batalla Generalista**\n",
    "\n",
    "**ResNet18** es una arquitectura de red neuronal convolucional muy popular, parte de la familia Residual Networks (ResNet). Su innovación principal radica en el uso de **\"bloques residuales\"** o \"saltos\" (skip connections). Estos saltos permiten que la información y los gradientes fluyan más fácilmente a través de muchas capas, resolviendo el problema del \"gradiente desvanecido\" que dificultaba el entrenamiento de redes muy profundas.\n",
    "\n",
    "* **Pre-entrenamiento:** Comúnmente, ResNet18 se pre-entrena en el dataset **ImageNet**. Este es un gigantesco conjunto de datos con millones de imágenes de objetos cotidianos (perros, coches, sillas, etc.) de 1000 categorías diferentes.\n",
    "* **Ventajas en imágenes médicas:** A pesar de haber sido entrenado con imágenes naturales, las características de bajo nivel que ResNet18 aprende de ImageNet (detección de bordes, patrones de textura) son sorprendentemente útiles como punto de partida para el análisis de imágenes médicas. Es un excelente punto de inicio general.\n",
    "* **Consideración:** Puede haber una \"brecha de dominio\" entre las imágenes de ImageNet y las imágenes médicas, lo que significa que el fine-tuning es crucial para adaptar el modelo a las particularidades de los datos médicos (contrastes, resoluciones, tipos de ruido).\n",
    "\n",
    "---\n",
    "\n",
    "#### **2. MedicalNet: Especialización para el Dominio Médico**\n",
    "\n",
    "**MedicalNet** es una iniciativa que proporciona modelos (incluyendo variantes de ResNet como ResNet18) que han sido **pre-entrenados específicamente en un vasto y diverso conjunto de datos de imágenes médicas**.\n",
    "\n",
    "* **Pre-entrenamiento:** A diferencia de ResNet18 estándar, MedicalNet ha sido entrenado con millones de imágenes provenientes de diversas modalidades médicas (MRI, CT, rayos X, ultrasonido) y cubriendo diferentes órganos y patologías.\n",
    "* **Ventajas en imágenes médicas:**\n",
    "    * **Mayor relevancia de las características:** Al estar pre-entrenado en datos médicos, MedicalNet ya ha aprendido patrones y características que son intrínsecamente más relevantes para el diagnóstico y análisis clínico.\n",
    "    * **Menor brecha de dominio:** Esto puede traducirse en un mejor rendimiento inicial, una convergencia más rápida durante el fine-tuning y, potencialmente, un mejor rendimiento final con menos datos de entrenamiento específicos para tu tarea.\n",
    "    * **Adaptado a diferentes modalidades:** Su entrenamiento diverso lo hace robusto para trabajar con distintos tipos de imágenes médicas.\n",
    "\n"
   ]
  },
  {
   "cell_type": "code",
   "execution_count": 3,
   "id": "982fd367",
   "metadata": {},
   "outputs": [
    {
     "name": "stderr",
     "output_type": "stream",
     "text": [
      "/home/nicolas/Documentos/gliara/models/resnet.py:173: FutureWarning: `nn.init.kaiming_normal` is now deprecated in favor of `nn.init.kaiming_normal_`.\n",
      "  m.weight = nn.init.kaiming_normal(m.weight, mode='fan_out')\n"
     ]
    }
   ],
   "source": [
    "# Dimensiones de tus volúmenes de MRI usamos 256x256x256 ya que es un tamaño común para imágenes de resonancia magnética cerebral en freesurfer\n",
    "input_D = 256\n",
    "input_H = 256\n",
    "input_W = 256\n",
    "\n",
    "# Número de canales (1 para norm.mgz)\n",
    "input_C = 1 \n",
    "model = resnet18(sample_input_D=input_D,\n",
    "                 sample_input_H=input_H,\n",
    "                 sample_input_W=input_W,\n",
    "                 num_seg_classes=1)  # ATENTO A ESTO PORQUE ES IMPORTANTE PARA LA CLASIFICACION"
   ]
  },
  {
   "cell_type": "markdown",
   "id": "27f00d8a",
   "metadata": {},
   "source": [
    "Pesos de MedicalNet y ResNet18:\n",
    "https://share.weiyun.com/55sZyIx "
   ]
  },
  {
   "cell_type": "code",
   "execution_count": 13,
   "id": "ad61fe80",
   "metadata": {},
   "outputs": [
    {
     "name": "stdout",
     "output_type": "stream",
     "text": [
      "Pesos de ResNet-18 cargados exitosamente desde pretrain/resnet_18_23dataset.pth\n",
      "Modelo movido a: cuda\n"
     ]
    },
    {
     "name": "stderr",
     "output_type": "stream",
     "text": [
      "/tmp/ipykernel_44861/2331833451.py:4: FutureWarning: You are using `torch.load` with `weights_only=False` (the current default value), which uses the default pickle module implicitly. It is possible to construct malicious pickle data which will execute arbitrary code during unpickling (See https://github.com/pytorch/pytorch/blob/main/SECURITY.md#untrusted-models for more details). In a future release, the default value for `weights_only` will be flipped to `True`. This limits the functions that could be executed during unpickling. Arbitrary objects will no longer be allowed to be loaded via this mode unless they are explicitly allowlisted by the user via `torch.serialization.add_safe_globals`. We recommend you start setting `weights_only=True` for any use case where you don't have full control of the loaded file. Please open an issue on GitHub for any issues related to this experimental feature.\n",
      "  state_dict = torch.load(pretrained_weights_path)\n"
     ]
    }
   ],
   "source": [
    "pretrained_weights_path = \"pretrain/resnet_18_23dataset.pth\"\n",
    "\n",
    "try:\n",
    "    state_dict = torch.load(pretrained_weights_path)\n",
    "    model.load_state_dict(state_dict, strict=False)\n",
    "    print(f\"Pesos de ResNet-18 cargados exitosamente desde {pretrained_weights_path}\")\n",
    "\n",
    "except FileNotFoundError:\n",
    "    print(f\"Error: El archivo de pesos no se encontró en {pretrained_weights_path}\")\n",
    "    print(\"Asegúrate de que la ruta sea correcta y el archivo exista.\")\n",
    "except Exception as e:\n",
    "    print(f\"Ocurrió un error al cargar los pesos: {e}\")\n",
    "\n",
    "device = torch.device(\"cuda\" if torch.cuda.is_available() else \"cpu\")\n",
    "model.to(device)\n",
    "print(f\"Modelo movido a: {device}\")"
   ]
  },
  {
   "cell_type": "code",
   "execution_count": 14,
   "id": "8ad4c4b9",
   "metadata": {},
   "outputs": [
    {
     "name": "stdout",
     "output_type": "stream",
     "text": [
      "Capa de salida (conv_seg) adaptada a 2 clases para el proyecto Gliara.\n",
      "Modelo movido a: cuda\n"
     ]
    }
   ],
   "source": [
    "# Define el número de clases para tu tarea de clasificación binaria (Alzheimer sí/no)\n",
    "your_num_classes = 2\n",
    "final_conv_layer = model.conv_seg[0]\n",
    "num_in_features = final_conv_layer.in_channels\n",
    "model.conv_seg = nn.Sequential(\n",
    "    nn.Conv3d(num_in_features, your_num_classes,\n",
    "              kernel_size=final_conv_layer.kernel_size,\n",
    "              stride=final_conv_layer.stride,\n",
    "              padding=final_conv_layer.padding)\n",
    ")\n",
    "\n",
    "print(f\"Capa de salida (conv_seg) adaptada a {your_num_classes} clases para el proyecto Gliara.\")\n",
    "\n",
    "# Mueve el modelo completo (incluida la nueva capa) a la GPU\n",
    "model.to(device)\n",
    "print(f\"Modelo movido a: {device}\")\n"
   ]
  },
  {
   "cell_type": "markdown",
   "id": "5484e0e6",
   "metadata": {},
   "source": [
    "# Preparar la data"
   ]
  },
  {
   "cell_type": "code",
   "execution_count": null,
   "id": "20e5c1d7",
   "metadata": {},
   "outputs": [],
   "source": []
  }
 ],
 "metadata": {
  "kernelspec": {
   "display_name": "base",
   "language": "python",
   "name": "python3"
  },
  "language_info": {
   "codemirror_mode": {
    "name": "ipython",
    "version": 3
   },
   "file_extension": ".py",
   "mimetype": "text/x-python",
   "name": "python",
   "nbconvert_exporter": "python",
   "pygments_lexer": "ipython3",
   "version": "3.12.8"
  }
 },
 "nbformat": 4,
 "nbformat_minor": 5
}
