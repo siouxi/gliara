{
 "cells": [
  {
   "cell_type": "markdown",
   "id": "524ec0dd",
   "metadata": {},
   "source": [
    "# Construccion del Dataframe"
   ]
  },
  {
   "cell_type": "code",
   "execution_count": 48,
   "id": "3a42cace",
   "metadata": {},
   "outputs": [],
   "source": [
    "import pandas as pd\n",
    "import torch\n",
    "from torch.utils.data import Dataset, DataLoader\n",
    "import nibabel as nib \n",
    "import numpy as np\n",
    "\n",
    "data = pd.read_csv(\"AUMENTED_DATA2.csv\")\n",
    "data['ruta'] = \"OASIS/1/processed/\" + data[\"ID\"] + \".nii.gz\"\n",
    "\n"
   ]
  },
  {
   "cell_type": "code",
   "execution_count": null,
   "id": "eeea70cf",
   "metadata": {},
   "outputs": [],
   "source": []
  }
 ],
 "metadata": {
  "kernelspec": {
   "display_name": "base",
   "language": "python",
   "name": "python3"
  },
  "language_info": {
   "codemirror_mode": {
    "name": "ipython",
    "version": 3
   },
   "file_extension": ".py",
   "mimetype": "text/x-python",
   "name": "python",
   "nbconvert_exporter": "python",
   "pygments_lexer": "ipython3",
   "version": "3.12.8"
  }
 },
 "nbformat": 4,
 "nbformat_minor": 5
}
