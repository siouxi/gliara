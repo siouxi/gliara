{
 "cells": [
  {
   "cell_type": "code",
   "execution_count": 2,
   "id": "a00d7703",
   "metadata": {},
   "outputs": [],
   "source": [
    "import torch\n",
    "import torch.nn as nn\n",
    "import torch.optim as optim\n",
    "from torch.utils.data import Dataset, DataLoader\n",
    "import nibabel as nib\n",
    "import pandas as pd\n",
    "import numpy as np\n",
    "from torchvision import transforms\n",
    "from models.resnet_alzheimer import resnet18\n",
    "import torchio as tio\n",
    "from tqdm import tqdm"
   ]
  },
  {
   "cell_type": "markdown",
   "id": "c5962b15",
   "metadata": {},
   "source": [
    "#### **1. ResNet18:**\n",
    "\n",
    "**ResNet18** es una arquitectura de red neuronal convolucional muy popular, parte de la familia Residual Networks (ResNet). Su innovación principal radica en el uso de **\"bloques residuales\"** o \"saltos\" (skip connections). Estos saltos permiten que la información y los gradientes fluyan más fácilmente a través de muchas capas, resolviendo el problema del \"gradiente desvanecido\" que dificultaba el entrenamiento de redes muy profundas.\n",
    "\n",
    "* **Pre-entrenamiento:** Comúnmente, ResNet18 se pre-entrena en el dataset **ImageNet**. Este es un gigantesco conjunto de datos con millones de imágenes de objetos cotidianos (perros, coches, sillas, etc.) de 1000 categorías diferentes.\n",
    "* **Ventajas en imágenes médicas:** A pesar de haber sido entrenado con imágenes naturales, las características de bajo nivel que ResNet18 aprende de ImageNet (detección de bordes, patrones de textura) son sorprendentemente útiles como punto de partida para el análisis de imágenes médicas. Es un excelente punto de inicio general.\n",
    "* **Consideración:** Puede haber una \"brecha de dominio\" entre las imágenes de ImageNet y las imágenes médicas, lo que significa que el fine-tuning es crucial para adaptar el modelo a las particularidades de los datos médicos (contrastes, resoluciones, tipos de ruido).\n",
    "\n",
    "---\n",
    "\n",
    "#### **2. MedicalNet:**\n",
    "\n",
    "**MedicalNet** es una iniciativa que proporciona modelos (incluyendo variantes de ResNet como ResNet18) que han sido **pre-entrenados específicamente en un vasto y diverso conjunto de datos de imágenes médicas**.\n",
    "\n",
    "* **Pre-entrenamiento:** A diferencia de ResNet18 estándar, MedicalNet ha sido entrenado con millones de imágenes provenientes de diversas modalidades médicas (MRI, CT, rayos X, ultrasonido) y cubriendo diferentes órganos y patologías.\n",
    "* **Ventajas en imágenes médicas:**\n",
    "    * **Mayor relevancia de las características:** Al estar pre-entrenado en datos médicos, MedicalNet ya ha aprendido patrones y características que son intrínsecamente más relevantes para el diagnóstico y análisis clínico.\n",
    "    * **Menor brecha de dominio:** Esto puede traducirse en un mejor rendimiento inicial, una convergencia más rápida durante el fine-tuning y, potencialmente, un mejor rendimiento final con menos datos de entrenamiento específicos para tu tarea.\n",
    "    * **Adaptado a diferentes modalidades:** Su entrenamiento diverso lo hace robusto para trabajar con distintos tipos de imágenes médicas.\n",
    "\n"
   ]
  },
  {
   "cell_type": "markdown",
   "id": "27f00d8a",
   "metadata": {},
   "source": [
    "Pesos de MedicalNet y ResNet18:\n",
    "https://share.weiyun.com/55sZyIx "
   ]
  },
  {
   "cell_type": "code",
   "execution_count": 19,
   "id": "fe954e1c",
   "metadata": {},
   "outputs": [],
   "source": [
    "class AlzheimerDataset(Dataset):\n",
    "    def __init__(self, csv_file, transform=None):\n",
    "        self.data = pd.read_csv(csv_file)\n",
    "        self.transform = transform\n",
    "\n",
    "    def __len__(self):\n",
    "        return len(self.data)\n",
    "\n",
    "    def __getitem__(self, idx):\n",
    "        img_path = self.data.iloc[idx]['ID']\n",
    "        label = self.data.iloc[idx]['CDR']\n",
    "\n",
    "        img = nib.load(img_path).get_fdata()\n",
    "        img = torch.tensor(img, dtype=torch.float32).unsqueeze(0)  # Add channel dimension\n",
    "        if self.transform:\n",
    "            img = self.transform(img)\n",
    "        return img, torch.tensor(label, dtype=torch.float32)\n",
    "\n",
    "\n",
    "def custom_collate(batch):\n",
    "    batch = [item for item in batch if item is not None]\n",
    "    if len(batch) == 0:\n",
    "        return None\n",
    "    return torch.utils.data.dataloader.default_collate(batch)\n"
   ]
  },
  {
   "cell_type": "code",
   "execution_count": 20,
   "id": "0fc4153f",
   "metadata": {},
   "outputs": [],
   "source": [
    "transform = tio.Compose([\n",
    "    tio.RescaleIntensity(out_min_max=(0, 1)), \n",
    "    tio.Resize((256, 256, 256)),  # ver como podemos optimizar haciendo resize a los .nii.gz de OASIS de por si son 256X256X256 pero podriamos pobrar talvez con un 96X96X96 o 128X128X128\n",
    "])"
   ]
  },
  {
   "cell_type": "code",
   "execution_count": null,
   "id": "cad72bad",
   "metadata": {},
   "outputs": [],
   "source": [
    "df = pd.read_csv('DATA_PATH.csv')\n",
    "train_data = df.sample(frac=0.6, random_state=42)\n",
    "val_data = df.drop(train_data.index).sample(frac=0.5, random_state=42)\n",
    "test_data = df.drop(train_data.index).drop(val_data.index)\n",
    "train_data.to_csv('train.csv', index=False)\n",
    "val_data.to_csv('val.csv', index=False)\n",
    "test_data.to_csv('test.csv', index=False)\n",
    "\n",
    "train_dataset = AlzheimerDataset('train.csv', transform=transform)\n",
    "val_dataset = AlzheimerDataset('val.csv', transform=transform)\n",
    "test_dataset = AlzheimerDataset('test.csv', transform=transform)\n",
    "\n",
    "train_loader = DataLoader(\n",
    "    train_dataset,\n",
    "    batch_size=2,\n",
    "    shuffle=True,\n",
    "    num_workers=0,\n",
    "    collate_fn=custom_collate\n",
    ")\n",
    "val_loader = DataLoader(\n",
    "    val_dataset,\n",
    "    batch_size=2,\n",
    "    shuffle=False,\n",
    "    num_workers=0,\n",
    "    collate_fn=custom_collate\n",
    ")\n",
    "test_loader = DataLoader(\n",
    "    test_dataset,\n",
    "    batch_size=2,\n",
    "    shuffle=False,\n",
    "    num_workers=0,\n",
    "    collate_fn=custom_collate\n",
    ")\n"
   ]
  },
  {
   "cell_type": "markdown",
   "id": "39306585",
   "metadata": {},
   "source": [
    "# Modelo\n",
    "\n",
    "Cargamos la ResNet18 con los pesos preentrenados de MedicalNet."
   ]
  },
  {
   "cell_type": "code",
   "execution_count": 26,
   "id": "e6271c47",
   "metadata": {},
   "outputs": [
    {
     "name": "stdout",
     "output_type": "stream",
     "text": [
      "Loaded pre-trained weights from pretrain/resnet_18_23dataset.pth. Mismatched layers were skipped.\n"
     ]
    }
   ],
   "source": [
    "model = resnet18(\n",
    "    sample_input_D=256,\n",
    "    sample_input_H=256,\n",
    "    sample_input_W=256,\n",
    "    num_classes=1,\n",
    "    pretrained_weights='pretrain/resnet_18_23dataset.pth',  \n",
    "    freeze_conv_layers=True\n",
    ")\n",
    "\n",
    "device = torch.device('cuda' if torch.cuda.is_available() else 'cpu')\n",
    "model = model.to(device)"
   ]
  },
  {
   "cell_type": "code",
   "execution_count": 27,
   "id": "adfc7ff6",
   "metadata": {},
   "outputs": [],
   "source": [
    "criterion = nn.BCEWithLogitsLoss()\n",
    "optimizer = optim.Adam(filter(lambda p: p.requires_grad, model.parameters()), lr=0.001)"
   ]
  },
  {
   "cell_type": "markdown",
   "id": "13d06ead",
   "metadata": {},
   "source": [
    "### Entrenamiento"
   ]
  },
  {
   "cell_type": "code",
   "execution_count": null,
   "id": "d527d3d4",
   "metadata": {},
   "outputs": [],
   "source": [
    "num_epochs = 10\n",
    "best_loss = float('inf')\n",
    "model.train()\n",
    "for epoch in range(num_epochs):\n",
    "    running_loss = 0.0\n",
    "    train_bar = tqdm(train_loader, desc=f'Epoch {epoch+1}/{num_epochs}')\n",
    "    for imgs, labels in train_bar:\n",
    "        imgs, labels = imgs.to(device), labels.to(device)\n",
    "        optimizer.zero_grad()\n",
    "        outputs = model(imgs).squeeze()\n",
    "        loss = criterion(outputs, labels)\n",
    "        loss.backward()\n",
    "        optimizer.step()\n",
    "        running_loss += loss.item() * imgs.size(0)\n",
    "\n",
    "        train_bar.set_postfix(loss=loss.item())\n",
    "\n",
    "    epoch_loss = running_loss / len(train_loader.dataset)\n",
    "    print(f'Epoch [{epoch+1}/{num_epochs}], Loss: {epoch_loss:.4f}')\n",
    "\n",
    "    if epoch_loss < best_loss:\n",
    "        best_loss = epoch_loss\n",
    "        torch.save(model.state_dict(), 'best_model.pth')\n",
    "        print(f'Saved best model with loss: {best_loss:.4f}')\n"
   ]
  },
  {
   "cell_type": "markdown",
   "id": "5d4ba595",
   "metadata": {},
   "source": [
    "---"
   ]
  },
  {
   "cell_type": "markdown",
   "id": "3005df6a",
   "metadata": {},
   "source": [
    "### Exportar el modelo"
   ]
  },
  {
   "cell_type": "code",
   "execution_count": 25,
   "id": "752f580b",
   "metadata": {},
   "outputs": [
    {
     "name": "stdout",
     "output_type": "stream",
     "text": [
      "Exportado con exito!🧠🌑\n"
     ]
    }
   ],
   "source": [
    "torch.save(model, 'gliaraV1.pth')\n",
    "print(\"Exportado con exito!🧠🌑\")"
   ]
  },
  {
   "cell_type": "code",
   "execution_count": 31,
   "id": "e40f2c9a",
   "metadata": {},
   "outputs": [
    {
     "name": "stdout",
     "output_type": "stream",
     "text": [
      "Probability of No Alzheimer’s: 0.6175\n",
      "Prediction: No Alzheimer’s\n"
     ]
    }
   ],
   "source": [
    "model.eval()\n",
    "img_path = 'OASIS/1/processed/A-OAS1_0268_MR1.nii.gz'\n",
    "try:\n",
    "    img = nib.load(img_path).get_fdata()\n",
    "    img = torch.tensor(img, dtype=torch.float32).unsqueeze(0)\n",
    "    img = transform(img).unsqueeze(0).to(device)\n",
    "    with torch.no_grad():\n",
    "        output = model(img).squeeze()\n",
    "        prob = torch.sigmoid(output).item()\n",
    "        pred = 1 if prob > 0.5 else 0\n",
    "        print(f'Probability of No Alzheimer’s: {prob:.4f}')\n",
    "        print(f'Prediction: {\"No Alzheimer’s\" if pred == 1 else \"Alzheimer’s\"}')\n",
    "except FileNotFoundError:\n",
    "    print(f\"File not found: {img_path}\")"
   ]
  },
  {
   "cell_type": "code",
   "execution_count": null,
   "id": "c2cbe5dd",
   "metadata": {},
   "outputs": [],
   "source": []
  }
 ],
 "metadata": {
  "kernelspec": {
   "display_name": "gliara_env",
   "language": "python",
   "name": "python3"
  },
  "language_info": {
   "codemirror_mode": {
    "name": "ipython",
    "version": 3
   },
   "file_extension": ".py",
   "mimetype": "text/x-python",
   "name": "python",
   "nbconvert_exporter": "python",
   "pygments_lexer": "ipython3",
   "version": "3.9.23"
  }
 },
 "nbformat": 4,
 "nbformat_minor": 5
}
